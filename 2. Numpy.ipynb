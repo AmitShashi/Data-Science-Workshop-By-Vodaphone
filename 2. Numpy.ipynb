{
 "cells": [
  {
   "cell_type": "code",
   "execution_count": 1,
   "metadata": {},
   "outputs": [
    {
     "name": "stdout",
     "output_type": "stream",
     "text": [
      "[2, 3, 4]\n"
     ]
    }
   ],
   "source": [
    "# List cannot be manipulated directly in the way we want it\n",
    "l= [2,3,4]\n",
    "print(l)"
   ]
  },
  {
   "cell_type": "code",
   "execution_count": 2,
   "metadata": {},
   "outputs": [],
   "source": [
    "import numpy as np"
   ]
  },
  {
   "cell_type": "code",
   "execution_count": 3,
   "metadata": {},
   "outputs": [
    {
     "name": "stdout",
     "output_type": "stream",
     "text": [
      "[2 3 4]\n"
     ]
    }
   ],
   "source": [
    "npa = np.array([2,3,4])\n",
    "print(npa)"
   ]
  },
  {
   "cell_type": "code",
   "execution_count": 35,
   "metadata": {},
   "outputs": [
    {
     "name": "stdout",
     "output_type": "stream",
     "text": [
      "[10.   11.25 12.5  13.75 15.  ]\n"
     ]
    }
   ],
   "source": [
    "npa**2\n",
    "aa=np.linspace(10,15,num=5)\n",
    "print(aa)"
   ]
  },
  {
   "cell_type": "code",
   "execution_count": 5,
   "metadata": {},
   "outputs": [],
   "source": [
    "# Manipulating with list is a tedious task\n",
    "# declaring lists \n",
    "list1 = list(range(500000))  \n",
    "# declaring numpy arrays \n",
    "array1 = np.arange(500000)"
   ]
  },
  {
   "cell_type": "code",
   "execution_count": 6,
   "metadata": {},
   "outputs": [
    {
     "name": "stdout",
     "output_type": "stream",
     "text": [
      "0.13563942909240723\n"
     ]
    }
   ],
   "source": [
    "import time\n",
    "initialTime = time.time() \n",
    "resultantList = [(a**2) for a in list1] #list comprehension\n",
    "# calculating execution time \n",
    "print(time.time() - initialTime) "
   ]
  },
  {
   "cell_type": "code",
   "execution_count": 7,
   "metadata": {},
   "outputs": [
    {
     "name": "stdout",
     "output_type": "stream",
     "text": [
      "0.003026723861694336\n"
     ]
    }
   ],
   "source": [
    "import time \n",
    "initialTime = time.time() \n",
    "resultantArray = array1 **2 \n",
    "# calculating execution time  \n",
    "print(time.time() - initialTime)"
   ]
  },
  {
   "cell_type": "code",
   "execution_count": 8,
   "metadata": {},
   "outputs": [
    {
     "name": "stdout",
     "output_type": "stream",
     "text": [
      "This is how a 1D array looks like.\n",
      "[[1 2 3]]\n",
      "2\n",
      "<class 'numpy.ndarray'>\n",
      "(1, 3)\n",
      "(12, 4)\n",
      "<memory at 0x000002C14CDB2450>\n"
     ]
    }
   ],
   "source": [
    "#Arrays\n",
    "\n",
    "#Import Numpy module\n",
    "import numpy as np\n",
    "\n",
    "# 1D Array\n",
    "print(\"This is how a 1D array looks like.\")\n",
    "one = np.array([[1,2,3]])\n",
    "print(one)\n",
    "print(one.ndim)\n",
    "print(type(one))\n",
    "print(one.shape)\n",
    "print(one.strides) #strides are the number of bytes that should be skipped in memory to go to the next element\n",
    "print(one.data) #Python buffer object pointing to the start of the array’s data."
   ]
  },
  {
   "cell_type": "code",
   "execution_count": 9,
   "metadata": {},
   "outputs": [
    {
     "name": "stdout",
     "output_type": "stream",
     "text": [
      "This is how a 2D array looks like.\n",
      "\n",
      "\n",
      "[[1 2 3]\n",
      " [4 5 6]]\n",
      "2\n",
      "<class 'numpy.ndarray'>\n",
      "(2, 3)\n",
      "(12, 4)\n"
     ]
    }
   ],
   "source": [
    "# 2D Array\n",
    "print(\"This is how a 2D array looks like.\")\n",
    "print(\"\\n\")\n",
    "two = np.array([[1,2,3],[4,5,6]])\n",
    "print(two)\n",
    "print(two.ndim)\n",
    "print(type(two))\n",
    "print(two.shape)\n",
    "print(two.strides)"
   ]
  },
  {
   "cell_type": "code",
   "execution_count": 10,
   "metadata": {},
   "outputs": [
    {
     "name": "stdout",
     "output_type": "stream",
     "text": [
      "This is how a 3D array looks like.\n",
      "\n",
      "\n",
      "[[[1 2]\n",
      "  [3 4]]\n",
      "\n",
      " [[5 6]\n",
      "  [7 8]]]\n"
     ]
    }
   ],
   "source": [
    "# 3D Array\n",
    "print(\"This is how a 3D array looks like.\")\n",
    "print(\"\\n\")\n",
    "three = np.array([[[1,2],[3,4]],[[5,6],[7,8]]])\n",
    "print(three)"
   ]
  },
  {
   "cell_type": "code",
   "execution_count": 11,
   "metadata": {},
   "outputs": [
    {
     "data": {
      "text/plain": [
       "array([[2, 4],\n",
       "       [6, 8]])"
      ]
     },
     "execution_count": 11,
     "metadata": {},
     "output_type": "execute_result"
    }
   ],
   "source": [
    "three[0,:,:]\n",
    "three[1,:,:]\n",
    "three[:,0,:]\n",
    "three[:,1,:]\n",
    "three[:,:,0]\n",
    "three[:,:,1]"
   ]
  },
  {
   "cell_type": "code",
   "execution_count": 12,
   "metadata": {},
   "outputs": [
    {
     "name": "stdout",
     "output_type": "stream",
     "text": [
      "3\n",
      "(2, 2, 2)\n",
      "(16, 8, 4)\n"
     ]
    }
   ],
   "source": [
    "print(three.ndim)\n",
    "# print(type(three))\n",
    "print(three.shape)\n",
    "print(three.strides)"
   ]
  },
  {
   "cell_type": "code",
   "execution_count": 13,
   "metadata": {},
   "outputs": [
    {
     "name": "stdout",
     "output_type": "stream",
     "text": [
      "[61 65 63 69 70 73 68 64 63 62]\n",
      "1\n",
      "[154.94 165.1  160.02 175.26 177.8  185.42 172.72 162.56 160.02 157.48]\n"
     ]
    }
   ],
   "source": [
    "#Creating array from a list\n",
    "\n",
    "#Consider the list of heights of baseball players\n",
    "height_inches = [61,65,63,69,70,73,68,64,63,62]\n",
    "\n",
    "#Converting this list into numpy array\n",
    "height_np_inches = np.array(height_inches)\n",
    "print(height_np_inches)\n",
    "# print(type(height_np_inches))\n",
    "print(height_np_inches.ndim)\n",
    "\n",
    "#Converting this array of height to cm\n",
    "height_np_cm = height_np_inches * 2.54\n",
    "print(height_np_cm)"
   ]
  },
  {
   "cell_type": "code",
   "execution_count": 14,
   "metadata": {},
   "outputs": [
    {
     "name": "stdout",
     "output_type": "stream",
     "text": [
      "[45.   90.   72.   81.   63.   69.75 74.25 77.4  81.   90.  ]\n",
      "[1.5494 1.651  1.6002 1.7526 1.778  1.8542 1.7272 1.6256 1.6002 1.5748]\n",
      "[18.74499852 33.01781751 28.11797007 26.37056314 19.92861129 20.28761798\n",
      " 24.889215   29.28960936 31.63271633 36.29039516]\n"
     ]
    }
   ],
   "source": [
    "#Weight of players in pounds\n",
    "weight_pounds = [100,200,160,180,140,155,165,172,180,200]\n",
    "#convert into numpy array\n",
    "weight_np_pounds = np.array(weight_pounds)\n",
    "weight_np_kgs = weight_np_pounds * 0.45\n",
    "print(weight_np_kgs)\n",
    "height_np_m = height_np_cm / 100\n",
    "print(height_np_m)\n",
    "#BMI(Weight(kg)/(height(m)^2))\n",
    "# Underweight = <18.5\n",
    "# Normal weight = 18.5–24.9\n",
    "# Overweight = 25–29.9\n",
    "# Obesity = BMI of 30 or greater\n",
    "bmi = weight_np_kgs / (height_np_m ** 2)\n",
    "print(bmi)"
   ]
  },
  {
   "cell_type": "code",
   "execution_count": 15,
   "metadata": {},
   "outputs": [],
   "source": [
    "#Finding out players with different BMI category\n",
    "# c = (bmi>18.5) & (bmi<25)\n",
    "# print(c)\n",
    "# print(bmi[bmi>30])"
   ]
  },
  {
   "cell_type": "code",
   "execution_count": 16,
   "metadata": {},
   "outputs": [
    {
     "data": {
      "text/plain": [
       "9"
      ]
     },
     "execution_count": 16,
     "metadata": {},
     "output_type": "execute_result"
    }
   ],
   "source": [
    "#Subsetting a list\n",
    "x = [4 , 9 , 6, 3, 1]\n",
    "x[1]"
   ]
  },
  {
   "cell_type": "code",
   "execution_count": 17,
   "metadata": {},
   "outputs": [
    {
     "data": {
      "text/plain": [
       "9"
      ]
     },
     "execution_count": 17,
     "metadata": {},
     "output_type": "execute_result"
    }
   ],
   "source": [
    "#Subsetting arrays\n",
    "y = np.array(x)\n",
    "y[1]"
   ]
  },
  {
   "cell_type": "code",
   "execution_count": 18,
   "metadata": {},
   "outputs": [],
   "source": [
    "#Boolean method for subsetting\n",
    "high = y > 5\n",
    "# y[high]"
   ]
  },
  {
   "cell_type": "code",
   "execution_count": 19,
   "metadata": {},
   "outputs": [
    {
     "name": "stdout",
     "output_type": "stream",
     "text": [
      "[6 3]\n"
     ]
    }
   ],
   "source": [
    "#Slicing the array\n",
    "print(y[2:4])"
   ]
  },
  {
   "cell_type": "code",
   "execution_count": 20,
   "metadata": {},
   "outputs": [
    {
     "name": "stdout",
     "output_type": "stream",
     "text": [
      "[[45.     90.     72.     81.     63.     69.75   74.25   77.4    81.\n",
      "  90.    ]\n",
      " [ 1.5494  1.651   1.6002  1.7526  1.778   1.8542  1.7272  1.6256  1.6002\n",
      "   1.5748]]\n",
      "2\n",
      "(2, 10)\n"
     ]
    }
   ],
   "source": [
    "#Making a 2D array from lists\n",
    "baseball_total = [weight_np_kgs, height_np_m]\n",
    "baseball_total_np = np.array(baseball_total)\n",
    "print(baseball_total_np)\n",
    "print(baseball_total_np.ndim)\n",
    "print(baseball_total_np.shape)"
   ]
  },
  {
   "cell_type": "code",
   "execution_count": 21,
   "metadata": {},
   "outputs": [
    {
     "name": "stdout",
     "output_type": "stream",
     "text": [
      "72.0 1.6002\n"
     ]
    }
   ],
   "source": [
    "#Looking at the players data at index 2\n",
    "print(baseball_total_np[0][2],baseball_total_np[1][2])"
   ]
  },
  {
   "cell_type": "code",
   "execution_count": 22,
   "metadata": {},
   "outputs": [
    {
     "data": {
      "text/plain": [
       "array([72.    ,  1.6002])"
      ]
     },
     "execution_count": 22,
     "metadata": {},
     "output_type": "execute_result"
    }
   ],
   "source": [
    "baseball_total_np[:,2]"
   ]
  },
  {
   "cell_type": "code",
   "execution_count": 23,
   "metadata": {},
   "outputs": [
    {
     "name": "stdout",
     "output_type": "stream",
     "text": [
      "[1.5494 1.651  1.6002 1.7526 1.778  1.8542 1.7272 1.6256 1.6002 1.5748]\n"
     ]
    }
   ],
   "source": [
    "#Looking at all the players heights\n",
    "print(baseball_total_np[1])"
   ]
  },
  {
   "cell_type": "code",
   "execution_count": 24,
   "metadata": {},
   "outputs": [
    {
     "name": "stdout",
     "output_type": "stream",
     "text": [
      "[1.5494 1.651  1.6002 1.7526 1.778  1.8542 1.7272 1.6256 1.6002 1.5748]\n"
     ]
    }
   ],
   "source": [
    "#Looking at all the players heights by another approach\n",
    "print(baseball_total_np[1,:])"
   ]
  },
  {
   "cell_type": "code",
   "execution_count": 42,
   "metadata": {},
   "outputs": [
    {
     "name": "stdout",
     "output_type": "stream",
     "text": [
      "[ 3 12]\n"
     ]
    }
   ],
   "source": [
    "#Arithmatics with arrays\n",
    "a = np.array([[0,1, 2], [3, 4,5]])\n",
    "b = a.sum(axis=1)\n",
    "print(b)"
   ]
  },
  {
   "cell_type": "code",
   "execution_count": 26,
   "metadata": {},
   "outputs": [
    {
     "name": "stdout",
     "output_type": "stream",
     "text": [
      "[[2 3 4]]\n",
      "(1, 3)\n",
      "[[2]\n",
      " [3]\n",
      " [4]]\n",
      "(3, 1)\n"
     ]
    }
   ],
   "source": [
    "#Transpose\n",
    "import numpy as np\n",
    "a = np.array([[2,3,4]])\n",
    "print(a)\n",
    "print(a.shape)\n",
    "# print(\"\\n\")\n",
    "a_t = a.T\n",
    "print(a_t)\n",
    "print(a_t.shape)"
   ]
  },
  {
   "cell_type": "code",
   "execution_count": 27,
   "metadata": {},
   "outputs": [
    {
     "name": "stdout",
     "output_type": "stream",
     "text": [
      "[[2 3 4]]\n",
      "(1, 3)\n",
      "[[2]\n",
      " [3]\n",
      " [4]]\n",
      "(3, 1)\n"
     ]
    }
   ],
   "source": [
    "#Swap axes\n",
    "import numpy as np\n",
    "a = np.array([[2,3,4]])\n",
    "print(a)\n",
    "print(a.shape)\n",
    "a = np.swapaxes(a,1,0)\n",
    "print(a)\n",
    "print(a.shape)"
   ]
  },
  {
   "cell_type": "code",
   "execution_count": 28,
   "metadata": {},
   "outputs": [
    {
     "name": "stdout",
     "output_type": "stream",
     "text": [
      "[0 1 2 3 4]\n",
      "[0.         1.         1.41421356 1.73205081 2.        ]\n",
      "[ 1.          2.71828183  7.3890561  20.08553692 54.59815003]\n"
     ]
    }
   ],
   "source": [
    "#Universal functions\n",
    "arr = np.arange(5)\n",
    "print(arr)\n",
    "# print(\"\\n\")\n",
    "# Unary functions\n",
    "print(np.sqrt(arr)) #Square root\n",
    "print(np.exp(arr)) # Exponential"
   ]
  },
  {
   "cell_type": "code",
   "execution_count": 29,
   "metadata": {},
   "outputs": [
    {
     "name": "stdout",
     "output_type": "stream",
     "text": [
      "[0 1 2 3 4 5 6 7 8 9]\n"
     ]
    }
   ],
   "source": [
    "#File Input and Output with Arrays\n",
    "arr = np.arange(10)\n",
    "print(arr)"
   ]
  },
  {
   "cell_type": "code",
   "execution_count": 30,
   "metadata": {},
   "outputs": [],
   "source": [
    "#Saving the array into file\n",
    "np.save('xyz.npy', arr)"
   ]
  },
  {
   "cell_type": "code",
   "execution_count": 31,
   "metadata": {},
   "outputs": [],
   "source": [
    "\n",
    "#Lcoading the file \n",
    "al = np.load('xyz.npy')"
   ]
  },
  {
   "cell_type": "code",
   "execution_count": 39,
   "metadata": {},
   "outputs": [
    {
     "name": "stdout",
     "output_type": "stream",
     "text": [
      "<class 'tuple'>\n"
     ]
    }
   ],
   "source": [
    "foo=(3,4,5)\n",
    "print(type(foo))"
   ]
  },
  {
   "cell_type": "code",
   "execution_count": 33,
   "metadata": {},
   "outputs": [
    {
     "name": "stdout",
     "output_type": "stream",
     "text": [
      "Before changing the ravelled array looking at original array\n",
      "[[ 0  1  2]\n",
      " [ 3  4  5]\n",
      " [ 6  7  8]\n",
      " [ 9 10 11]\n",
      " [12 13 14]]\n",
      "\n",
      "\n",
      "[ 0  1  2  3  4  5  6  7  8  9 10 11 12 13 14]\n",
      "\n",
      "\n",
      "[1000    1    2    3    4    5    6    7    8    9   10   11   12   13\n",
      "   14]\n",
      "\n",
      "\n",
      "After changing the ravelled array looking at original array\n",
      "[[1000    1    2]\n",
      " [   3    4    5]\n",
      " [   6    7    8]\n",
      " [   9   10   11]\n",
      " [  12   13   14]]\n"
     ]
    }
   ],
   "source": [
    "#Ravel function for flattening of data\n",
    "arr = np.arange(15).reshape((5, 3))\n",
    "print(\"Before changing the ravelled array looking at original array\")\n",
    "print(arr)\n",
    "print(\"\\n\")\n",
    "rav1 = arr.ravel() #arr will change by changing of rav1\n",
    "print(rav1)\n",
    "print(\"\\n\")\n",
    "rav1[0] = 1000\n",
    "print(rav1)\n",
    "print(\"\\n\")\n",
    "print(\"After changing the ravelled array looking at original array\")\n",
    "print(arr)"
   ]
  },
  {
   "cell_type": "code",
   "execution_count": 34,
   "metadata": {},
   "outputs": [
    {
     "name": "stdout",
     "output_type": "stream",
     "text": [
      "Before changing the flattened array looking at original array\n",
      "[[ 0  1  2]\n",
      " [ 3  4  5]\n",
      " [ 6  7  8]\n",
      " [ 9 10 11]\n",
      " [12 13 14]]\n",
      "[ 0  1  2  3  4  5  6  7  8  9 10 11 12 13 14]\n",
      "[1000    1    2    3    4    5    6    7    8    9   10   11   12   13\n",
      "   14]\n",
      "After changing the flattened array looking at original array\n",
      "[[ 0  1  2]\n",
      " [ 3  4  5]\n",
      " [ 6  7  8]\n",
      " [ 9 10 11]\n",
      " [12 13 14]]\n"
     ]
    }
   ],
   "source": [
    "#Flatten function for flattening of data\n",
    "arr = np.arange(15).reshape((5, 3))\n",
    "print(\"Before changing the flattened array looking at original array\")\n",
    "print(arr)\n",
    "flat1 = arr.flatten() #arr will not change by changing of flat1\n",
    "print(flat1)\n",
    "flat1[0] = 1000\n",
    "print(flat1)\n",
    "print(\"After changing the flattened array looking at original array\")\n",
    "print(arr)"
   ]
  }
 ],
 "metadata": {
  "kernelspec": {
   "display_name": "Python 3",
   "language": "python",
   "name": "python3"
  },
  "language_info": {
   "codemirror_mode": {
    "name": "ipython",
    "version": 3
   },
   "file_extension": ".py",
   "mimetype": "text/x-python",
   "name": "python",
   "nbconvert_exporter": "python",
   "pygments_lexer": "ipython3",
   "version": "3.8.3"
  }
 },
 "nbformat": 4,
 "nbformat_minor": 4
}
